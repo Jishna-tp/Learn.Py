{
  "nbformat": 4,
  "nbformat_minor": 0,
  "metadata": {
    "colab": {
      "name": "TASK  7.ipynb",
      "provenance": [],
      "include_colab_link": true
    },
    "kernelspec": {
      "name": "python3",
      "display_name": "Python 3"
    },
    "language_info": {
      "name": "python"
    }
  },
  "cells": [
    {
      "cell_type": "markdown",
      "metadata": {
        "id": "view-in-github",
        "colab_type": "text"
      },
      "source": [
        "<a href=\"https://colab.research.google.com/github/Jishna-tp/Learn.py/blob/main/TASK_7.ipynb\" target=\"_parent\"><img src=\"https://colab.research.google.com/assets/colab-badge.svg\" alt=\"Open In Colab\"/></a>"
      ]
    },
    {
      "cell_type": "markdown",
      "metadata": {
        "id": "b0V3vwzcydKy"
      },
      "source": [
        "1. Write a program to check whether a  string is palindrome or not using functions. \n",
        "\n",
        "   ( A function is to be created to check whether the string is palindrome and it should give the output true or false to the main program)"
      ]
    },
    {
      "cell_type": "code",
      "metadata": {
        "id": "M2Mi7EOdyxiu"
      },
      "source": [
        "#please enter the code below this line.\n",
        "def palindrome(st):\n",
        "  rev=st[::-1]\n",
        "  print(\"rev =\",rev)\n",
        "  if(rev==st):\n",
        "    print(\"It is a palindrome\")\n",
        "  else:\n",
        "    print(\"It is not a palindrome\")\n",
        "st=input(\"Enter a string:\")\n",
        "palindrome(st)"
      ],
      "execution_count": null,
      "outputs": []
    },
    {
      "cell_type": "markdown",
      "metadata": {
        "id": "vSiShTyOzEz-"
      },
      "source": [
        "2.  Write a menu driven program to find largest element in L, smallest element, avg of all values, sum of all values in L. All these operation should be performed in different functions and the result should be returned.\n",
        "\n",
        "\n",
        "      L=[23,24,11,90,1,41,9,99,28,56,72]"
      ]
    },
    {
      "cell_type": "code",
      "metadata": {
        "id": "fRtMIw_CzsmO"
      },
      "source": [
        "#please enter the code below this line.\n",
        "def largest(l):\n",
        "    large=l[0]\n",
        "    for i in l:\n",
        "        if(i>large):\n",
        "            large=i\n",
        "    return large\n",
        "def smallest(l):\n",
        "    small=l[0]\n",
        "    for i in l:\n",
        "        if(i<small):\n",
        "            small=i\n",
        "    return small\n",
        "def sum(l):\n",
        "    s=0\n",
        "    for i in l:\n",
        "        s=s+i\n",
        "    return s\n",
        "def avg(l):\n",
        "    avg=sum(l)/len(l)\n",
        "    return avg\n",
        "l=[23,24,11,90,1,41,9,99,28,56,72]\n",
        "print(\"Largest number is =\",largest(l))\n",
        "print(\"smallest number is =\",smallest(l))\n",
        "print(\"Sum of values =\",sum(l))\n",
        "print(\"Average of values =\",avg(l))"
      ],
      "execution_count": null,
      "outputs": []
    }
  ]
}
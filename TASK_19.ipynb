{
  "nbformat": 4,
  "nbformat_minor": 0,
  "metadata": {
    "colab": {
      "name": "TASK 19.ipynb",
      "provenance": [],
      "include_colab_link": true
    },
    "kernelspec": {
      "name": "python3",
      "display_name": "Python 3"
    },
    "language_info": {
      "name": "python"
    }
  },
  "cells": [
    {
      "cell_type": "markdown",
      "metadata": {
        "id": "view-in-github",
        "colab_type": "text"
      },
      "source": [
        "<a href=\"https://colab.research.google.com/github/Jishna-tp/Learn.py/blob/main/TASK_19.ipynb\" target=\"_parent\"><img src=\"https://colab.research.google.com/assets/colab-badge.svg\" alt=\"Open In Colab\"/></a>"
      ]
    },
    {
      "cell_type": "markdown",
      "metadata": {
        "id": "6J-6GvX2JUcC"
      },
      "source": [
        "1. Create a DataFrame by passing a random numpy array,with a dateted index and labelled columns and display,\n",
        "  - where values of the column A is greater than 0.\n",
        "  - where values of the columns A is greater than 0 and B greater than -1.\n",
        "  - where values of the columns A  is greater than 0 or B greater than -1.\n"
      ]
    },
    {
      "cell_type": "code",
      "metadata": {
        "id": "xX-5VikpLcHL"
      },
      "source": [
        "#please type your code below this line.\n",
        "import numpy as np\n",
        "import pandas as pd\n",
        "datetie = pd.date_range('2021-08-24',periods=8)\n",
        "df = pd.DataFrame(np.random.randn(8,6), index=datetie, columns=list('ABCDEF'))\n",
        "print(df)\n",
        "print(\"\\nValues of the column A is greater than 0:\\n\",df[df['A']>0])\n",
        "print(\"\\nValues of the columns A is greater than 0 and B greater than -1:\\n\",df[(df['A']>0) & (df['B']>-1)])\n",
        "print(\"\\nValues of the columns A is greater than 0 or B greater than -1:\\n\",df[(df['A']>0) | (df['B']>-1)])"
      ],
      "execution_count": null,
      "outputs": []
    },
    {
      "cell_type": "markdown",
      "metadata": {
        "id": "1WAf9SbwLp6o"
      },
      "source": [
        "2. Create a DataFrame by passing a random numpy array,with a dateted index and labelled columns and check if ,\n",
        "  - the values of the table are greater the zero or not.\n",
        "  - the value at the postion (0,0) is equal to NaN or not."
      ]
    },
    {
      "cell_type": "code",
      "metadata": {
        "id": "rBrt8pMeM2Q5"
      },
      "source": [
        "#please type your code below this line.\n",
        "import numpy as np\n",
        "import pandas as pd\n",
        "datetie = pd.date_range('2021-08-24',periods=8)\n",
        "df = pd.DataFrame(np.random.randn(8,6), index=datetie, columns=list('ABCDEF'))\n",
        "print(df)\n",
        "print(\"\\nValues greater the zero or not:\\n\",df>0)\n",
        "print(\"\\nValue at the postion (0,0) is equal to NaN or not:\\n\",df.iloc[[0],[0]] == 'NaN')"
      ],
      "execution_count": null,
      "outputs": []
    },
    {
      "cell_type": "markdown",
      "metadata": {
        "id": "IfM9XYmiNaKB"
      },
      "source": [
        "3. Create a DataFrame by passing a random numpy array,with a dateted index and labelled columns and,\n",
        "  - reindex the index with even dates.\n",
        "  - create a column with values NaN.\n",
        "  - make the values of the first two index of the newly created column as 1"
      ]
    },
    {
      "cell_type": "code",
      "metadata": {
        "id": "F-w8kEfaORg3"
      },
      "source": [
        "#please type your answer below this line.\n",
        "import numpy as np\n",
        "import pandas as pd\n",
        "datetie = pd.date_range('2021-08-24',periods=8)\n",
        "df = pd.DataFrame(np.random.randn(8,6), index=datetie, columns=list('ABCDEF'))\n",
        "print(df)\n",
        "df1 = df.reindex(df.index[0::2])\n",
        "print(\"\\nIndex with even dates:\\n\",df1)\n",
        "df1['G'] = 'NaN'\n",
        "print(\"\\nNew column with values NaN:\\n\",df1)\n",
        "df1.loc[df1.index[:2],'G'] = 1\n",
        "print(\"\\nFirst two index of the newly created column as 1:\\n\",df1)"
      ],
      "execution_count": null,
      "outputs": []
    }
  ]
}
{
  "nbformat": 4,
  "nbformat_minor": 0,
  "metadata": {
    "colab": {
      "name": "TASK 9.ipynb",
      "provenance": [],
      "include_colab_link": true
    },
    "kernelspec": {
      "name": "python3",
      "display_name": "Python 3"
    },
    "language_info": {
      "name": "python"
    }
  },
  "cells": [
    {
      "cell_type": "markdown",
      "metadata": {
        "id": "view-in-github",
        "colab_type": "text"
      },
      "source": [
        "<a href=\"https://colab.research.google.com/github/Jishna-tp/Learn.py/blob/main/TASK_9.ipynb\" target=\"_parent\"><img src=\"https://colab.research.google.com/assets/colab-badge.svg\" alt=\"Open In Colab\"/></a>"
      ]
    },
    {
      "cell_type": "markdown",
      "metadata": {
        "id": "CBOQ3rFElEb0"
      },
      "source": [
        "1. Create an 4x4 array containing the values ranging from 0 - 15 (use arange function). Then ,\n",
        "  \n",
        "  a) split it equally along horizontal.\n",
        "\n",
        "  b) split it as 4 parts vertically.\n",
        "\n"
      ]
    },
    {
      "cell_type": "code",
      "metadata": {
        "id": "pKy4fjS_m3XD"
      },
      "source": [
        "#please provide your answer below this line\n",
        "import numpy as np\n",
        "x = np.arange(0,16).reshape(4,4)\n",
        "print(x)"
      ],
      "execution_count": null,
      "outputs": []
    },
    {
      "cell_type": "code",
      "metadata": {
        "id": "FDU6XfJlq1QA"
      },
      "source": [
        "#split along horizontal \n",
        "np.hsplit(x,4)"
      ],
      "execution_count": null,
      "outputs": []
    },
    {
      "cell_type": "code",
      "metadata": {
        "id": "Hn22r3f0rDsl"
      },
      "source": [
        "#split vertically\n",
        "np.vsplit(x,4)"
      ],
      "execution_count": null,
      "outputs": []
    },
    {
      "cell_type": "markdown",
      "metadata": {
        "id": "ORtqWRAeoMvn"
      },
      "source": [
        "2. Create a 3x3 matrix using random module and then,\n",
        "\n",
        "  a) Find the ceil of the matrix.\n",
        "  \n",
        "  b) Find the floor of the matrix."
      ]
    },
    {
      "cell_type": "code",
      "metadata": {
        "id": "kt_CO_v9qpU-"
      },
      "source": [
        "#please provide your answer below this line\n",
        "import numpy as np\n",
        "x = np.random.random((3,3))\n",
        "print(x)"
      ],
      "execution_count": null,
      "outputs": []
    },
    {
      "cell_type": "code",
      "metadata": {
        "id": "dD1MYJdBrzNN"
      },
      "source": [
        "#find the ceil of matrix \n",
        "np.ceil(x)"
      ],
      "execution_count": null,
      "outputs": []
    },
    {
      "cell_type": "code",
      "metadata": {
        "id": "imjuLlzAr98J"
      },
      "source": [
        "#find the floor of matrix \n",
        "np.floor(x)"
      ],
      "execution_count": null,
      "outputs": []
    },
    {
      "cell_type": "markdown",
      "metadata": {
        "id": "oln9t19WqzBb"
      },
      "source": [
        "3. Create a random 1x4 array and print the random array and its shape.\n",
        "    \n",
        "      (use the shape function for finding the shape & use the same random we created here for both the below operations.)\n",
        "\n",
        "  a) Squeeze the random array and print the squeezed array and its shape.\n",
        "  b) Expand the random array by one axis and print the expanded array and its shape."
      ]
    },
    {
      "cell_type": "code",
      "metadata": {
        "id": "cbGGwRo3vpVX"
      },
      "source": [
        "#please provide your answer below this line.\n",
        "import numpy as np\n",
        "x = np.random.random((1,4))\n",
        "print(x)\n",
        "print(np.shape(x))"
      ],
      "execution_count": null,
      "outputs": []
    },
    {
      "cell_type": "code",
      "metadata": {
        "id": "EayiFcQksrVI"
      },
      "source": [
        "#squeeze the array\n",
        "y = np.squeeze(x)\n",
        "print(y)\n",
        "print(np.shape(y))"
      ],
      "execution_count": null,
      "outputs": []
    },
    {
      "cell_type": "code",
      "metadata": {
        "id": "lrfiLvKltZ-0"
      },
      "source": [
        "#expand the array\n",
        "z = np.expand_dims(x,axis=1)\n",
        "print(z)\n",
        "print(np.shape(z))"
      ],
      "execution_count": null,
      "outputs": []
    }
  ]
}
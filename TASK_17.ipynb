{
  "nbformat": 4,
  "nbformat_minor": 0,
  "metadata": {
    "colab": {
      "name": "TASK 17.ipynb",
      "provenance": [],
      "include_colab_link": true
    },
    "kernelspec": {
      "name": "python3",
      "display_name": "Python 3"
    },
    "language_info": {
      "name": "python"
    }
  },
  "cells": [
    {
      "cell_type": "markdown",
      "metadata": {
        "id": "view-in-github",
        "colab_type": "text"
      },
      "source": [
        "<a href=\"https://colab.research.google.com/github/Jishna-tp/Learn.py/blob/main/TASK_17.ipynb\" target=\"_parent\"><img src=\"https://colab.research.google.com/assets/colab-badge.svg\" alt=\"Open In Colab\"/></a>"
      ]
    },
    {
      "cell_type": "markdown",
      "metadata": {
        "id": "0SLapvpoaeYY"
      },
      "source": [
        "1. Create a DataFrame by passing a random numpy array,with a datetie index and labelled columns.and display its,\n",
        "     - Head\n",
        "     - Tail\n",
        "     - Index \n",
        "     - Columns\n",
        "     - Values\n",
        "     - statistics\n"
      ]
    },
    {
      "cell_type": "code",
      "metadata": {
        "id": "zJDkjyVxa5yU",
        "outputId": "5a8ee3c1-3f50-4a24-c080-8cc7af7162aa",
        "colab": {
          "base_uri": "https://localhost:8080/"
        }
      },
      "source": [
        "#please type your answer below this line.\n",
        "import numpy as np\n",
        "import pandas as pd\n",
        "datetie = pd.date_range('2021-08-24',periods=4)\n",
        "df = pd.DataFrame(np.random.randn(4,4), index=datetie, columns=list('ABCD'))\n",
        "print(\"Head:\\n\", df.head())\n",
        "print(\"Tail:\\n\", df.tail())\n",
        "print(\"Index:\\n\", df.index)\n",
        "print(\"Columns:\\n\", df.columns)\n",
        "print(\"Values:\\n\", df.values)\n",
        "print(\"Statistics:\\n\", df.describe(include='all'))"
      ],
      "execution_count": 21,
      "outputs": [
        {
          "output_type": "stream",
          "text": [
            "Head:\n",
            "                    A         B         C         D\n",
            "2021-08-24 -1.108542  0.486055  0.948791 -1.209341\n",
            "2021-08-25 -0.346789 -0.392075  0.136607 -0.811241\n",
            "2021-08-26  0.502972  1.527944 -0.453552  0.435765\n",
            "2021-08-27 -0.093899  1.050478 -1.736069 -0.477925\n",
            "Tail:\n",
            "                    A         B         C         D\n",
            "2021-08-24 -1.108542  0.486055  0.948791 -1.209341\n",
            "2021-08-25 -0.346789 -0.392075  0.136607 -0.811241\n",
            "2021-08-26  0.502972  1.527944 -0.453552  0.435765\n",
            "2021-08-27 -0.093899  1.050478 -1.736069 -0.477925\n",
            "Index:\n",
            " DatetimeIndex(['2021-08-24', '2021-08-25', '2021-08-26', '2021-08-27'], dtype='datetime64[ns]', freq='D')\n",
            "Columns:\n",
            " Index(['A', 'B', 'C', 'D'], dtype='object')\n",
            "Values:\n",
            " [[-1.1085418   0.48605548  0.94879092 -1.20934112]\n",
            " [-0.3467895  -0.39207461  0.13660678 -0.81124099]\n",
            " [ 0.50297199  1.52794385 -0.45355152  0.43576513]\n",
            " [-0.09389904  1.05047788 -1.73606946 -0.47792502]]\n",
            "Statistics:\n",
            "               A         B         C         D\n",
            "count  4.000000  4.000000  4.000000  4.000000\n",
            "mean  -0.261565  0.668101 -0.276056 -0.515686\n",
            "std    0.667648  0.825158  1.130440  0.701236\n",
            "min   -1.108542 -0.392075 -1.736069 -1.209341\n",
            "25%   -0.537228  0.266523 -0.774181 -0.910766\n",
            "50%   -0.220344  0.768267 -0.158472 -0.644583\n",
            "75%    0.055319  1.169844  0.339653 -0.249502\n",
            "max    0.502972  1.527944  0.948791  0.435765\n"
          ],
          "name": "stdout"
        }
      ]
    },
    {
      "cell_type": "markdown",
      "metadata": {
        "id": "xnkA2mKDdyoO"
      },
      "source": [
        "2. Use the above table and,\n",
        "      - find transpose of your data.\n",
        "      - sort the index in the descending order of the date."
      ]
    },
    {
      "cell_type": "code",
      "metadata": {
        "id": "uqcQSEOufJ5P",
        "outputId": "c7502643-2ba9-4f4c-d2c7-cb610daa38ec",
        "colab": {
          "base_uri": "https://localhost:8080/"
        }
      },
      "source": [
        "#please provide your answer below this line.\n",
        "print(\"Transpose\\n\", df.transpose())\n",
        "print(\"Sorted in Descending Order\\n\", df.sort_index(ascending=False))"
      ],
      "execution_count": 25,
      "outputs": [
        {
          "output_type": "stream",
          "text": [
            "Transpose\n",
            "    2021-08-24  2021-08-25  2021-08-26  2021-08-27\n",
            "A   -1.108542   -0.346789    0.502972   -0.093899\n",
            "B    0.486055   -0.392075    1.527944    1.050478\n",
            "C    0.948791    0.136607   -0.453552   -1.736069\n",
            "D   -1.209341   -0.811241    0.435765   -0.477925\n",
            "Sorted in Descending Order\n",
            "                    A         B         C         D\n",
            "2021-08-27 -0.093899  1.050478 -1.736069 -0.477925\n",
            "2021-08-26  0.502972  1.527944 -0.453552  0.435765\n",
            "2021-08-25 -0.346789 -0.392075  0.136607 -0.811241\n",
            "2021-08-24 -1.108542  0.486055  0.948791 -1.209341\n"
          ],
          "name": "stdout"
        }
      ]
    }
  ]
}
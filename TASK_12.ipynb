{
  "nbformat": 4,
  "nbformat_minor": 0,
  "metadata": {
    "colab": {
      "name": "TASK 12.ipynb",
      "provenance": [],
      "include_colab_link": true
    },
    "kernelspec": {
      "name": "python3",
      "display_name": "Python 3"
    },
    "language_info": {
      "name": "python"
    }
  },
  "cells": [
    {
      "cell_type": "markdown",
      "metadata": {
        "id": "view-in-github",
        "colab_type": "text"
      },
      "source": [
        "<a href=\"https://colab.research.google.com/github/Jishna-tp/Learn.py/blob/main/TASK_12.ipynb\" target=\"_parent\"><img src=\"https://colab.research.google.com/assets/colab-badge.svg\" alt=\"Open In Colab\"/></a>"
      ]
    },
    {
      "cell_type": "markdown",
      "metadata": {
        "id": "i9LeFsII-SAQ"
      },
      "source": [
        "1. Create an 4x4 array with elements ranging from 0-15. And find the trace of the array."
      ]
    },
    {
      "cell_type": "code",
      "metadata": {
        "id": "eT1ymGjZ-pOZ",
        "outputId": "63fc248a-4f38-475c-811c-7540c94895fc",
        "colab": {
          "base_uri": "https://localhost:8080/"
        }
      },
      "source": [
        "#please type your answer below this line.\n",
        "import numpy as np\n",
        "a = np.arange(0,16).reshape(4,4)\n",
        "print(a)\n",
        "print(np.trace(a))"
      ],
      "execution_count": 2,
      "outputs": [
        {
          "output_type": "stream",
          "text": [
            "[[ 0  1  2  3]\n",
            " [ 4  5  6  7]\n",
            " [ 8  9 10 11]\n",
            " [12 13 14 15]]\n",
            "30\n"
          ],
          "name": "stdout"
        }
      ]
    },
    {
      "cell_type": "markdown",
      "metadata": {
        "id": "Hw69FYds-zww"
      },
      "source": [
        "2. Create a matrix with elements [6,1,1],[4,-2,5],[2,8,7].Now find the inverse this matrix."
      ]
    },
    {
      "cell_type": "code",
      "metadata": {
        "id": "IAhA-qIwAoxs",
        "outputId": "3b7c5519-b13b-43b6-9c1f-bc845f21ee74",
        "colab": {
          "base_uri": "https://localhost:8080/"
        }
      },
      "source": [
        "#please type your answer below this line.\n",
        "import numpy as np\n",
        "x = np.array([(6,1,1),(4,-2,5),(2,8,7)])\n",
        "print(x)\n",
        "print(np.linalg.inv(x))"
      ],
      "execution_count": 6,
      "outputs": [
        {
          "output_type": "stream",
          "text": [
            "[[ 6  1  1]\n",
            " [ 4 -2  5]\n",
            " [ 2  8  7]]\n",
            "[[ 0.17647059 -0.00326797 -0.02287582]\n",
            " [ 0.05882353 -0.13071895  0.08496732]\n",
            " [-0.11764706  0.1503268   0.05228758]]\n"
          ],
          "name": "stdout"
        }
      ]
    },
    {
      "cell_type": "markdown",
      "metadata": {
        "id": "6B6aJDFKAz0B"
      },
      "source": [
        "3. Create an 3x3 array with elements ranging from 0-8. And find the norm this array."
      ]
    },
    {
      "cell_type": "code",
      "metadata": {
        "id": "49RVb-g3CXSk",
        "outputId": "68ea327b-2fcd-48ce-fd11-754635258f19",
        "colab": {
          "base_uri": "https://localhost:8080/"
        }
      },
      "source": [
        "#please type your answer below this line.\n",
        "import numpy as np\n",
        "arr = np.arange(0,9).reshape(3,3)\n",
        "print(arr)\n",
        "print(np.linalg.norm(arr))"
      ],
      "execution_count": 8,
      "outputs": [
        {
          "output_type": "stream",
          "text": [
            "[[0 1 2]\n",
            " [3 4 5]\n",
            " [6 7 8]]\n",
            "14.2828568570857\n"
          ],
          "name": "stdout"
        }
      ]
    },
    {
      "cell_type": "markdown",
      "metadata": {
        "id": "pGKEu4lxDCJK"
      },
      "source": [
        "4. Create a 4x4 array whose value ranging from 0-15.And find the eigenvalues and eigenvectors of this array."
      ]
    },
    {
      "cell_type": "code",
      "metadata": {
        "id": "dyymkid0DTth",
        "outputId": "3ed09d36-eedc-4bb1-8a5e-8e33fac0b558",
        "colab": {
          "base_uri": "https://localhost:8080/"
        }
      },
      "source": [
        "#please type your answer below this line.\n",
        "import numpy as np\n",
        "x = np.arange(0,16).reshape(4,4)\n",
        "print(x)\n",
        "eigenvalues, eigenvectors = np.linalg.eig(x)\n",
        "print(eigenvalues)\n",
        "print(eigenvectors)"
      ],
      "execution_count": 13,
      "outputs": [
        {
          "output_type": "stream",
          "text": [
            "[[ 0  1  2  3]\n",
            " [ 4  5  6  7]\n",
            " [ 8  9 10 11]\n",
            " [12 13 14 15]]\n",
            "[ 3.24642492e+01 -2.46424920e+00  2.55670932e-15 -1.93389056e-16]\n",
            "[[-0.11417645  0.7327781  -0.54471271  0.09683789]\n",
            " [-0.3300046   0.28974835  0.76902356  0.27269982]\n",
            " [-0.54583275 -0.15328139  0.09609099 -0.8359133 ]\n",
            " [-0.76166089 -0.59631113 -0.32040185  0.46637559]]\n"
          ],
          "name": "stdout"
        }
      ]
    }
  ]
}